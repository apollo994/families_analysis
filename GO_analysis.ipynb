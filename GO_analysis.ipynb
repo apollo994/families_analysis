{
 "cells": [
  {
   "cell_type": "markdown",
   "metadata": {},
   "source": [
    "# GO enrichment analysis\n",
    "\n",
    "### “Crop reproductive meristems in the genomic era, a brief overview”* (Caselli et al.)"
   ]
  },
  {
   "cell_type": "markdown",
   "metadata": {},
   "source": [
    "The tables showed below are obtained using [agriGOv2](http://systemsbiology.cau.edu.cn/agriGOv2/).  \n",
    "We are showing here the identity of the top 20 GO terms per species, genes differentially expressed (queryitem)and the term FDR is also shown."
   ]
  },
  {
   "cell_type": "code",
   "execution_count": 2,
   "metadata": {},
   "outputs": [],
   "source": [
    "import pandas as pd"
   ]
  },
  {
   "cell_type": "code",
   "execution_count": 3,
   "metadata": {},
   "outputs": [],
   "source": [
    "def get_top_terms(df): \n",
    "    df = df.dropna()\n",
    "    top = df[['Term','queryitem','FDR']].iloc[:20]    \n",
    "    print (top)"
   ]
  },
  {
   "cell_type": "code",
   "execution_count": 4,
   "metadata": {},
   "outputs": [],
   "source": [
    "ath_GO = pd.read_csv('data/GO_analysis/ath_GO.csv')\n",
    "hvu_GO = pd.read_csv('data/GO_analysis/hvu_GO.csv')\n",
    "rice_GO = pd.read_csv('data/GO_analysis/rice_GO.csv')\n",
    "zea_t_GO = pd.read_csv('data/GO_analysis/zea_m_GO.csv')\n",
    "zea_e_GO = pd.read_csv('data/GO_analysis/zea_f_GO.csv')"
   ]
  },
  {
   "cell_type": "markdown",
   "metadata": {},
   "source": [
    "## Arabidopsis enriched GO terms"
   ]
  },
  {
   "cell_type": "code",
   "execution_count": 5,
   "metadata": {},
   "outputs": [
    {
     "name": "stdout",
     "output_type": "stream",
     "text": [
      "                                                 Term  queryitem       FDR\n",
      "0               reproductive shoot system development         10  0.000003\n",
      "1                    maintenance of meristem identity          5  0.000003\n",
      "2                                  flower development         10  0.000003\n",
      "3                    stem cell population maintenance          5  0.000004\n",
      "4                      regulation of cellular process         24  0.000004\n",
      "5                          maintenance of cell number          5  0.000004\n",
      "6                               biological regulation         26  0.000012\n",
      "7                    regulation of biological process         24  0.000018\n",
      "8                                response to stimulus         26  0.000018\n",
      "9                            shoot system development         10  0.000077\n",
      "10                            single-organism process         31  0.000077\n",
      "11                               meristem maintenance          5  0.000080\n",
      "12                     cellular developmental process         10  0.000130\n",
      "13             regulation of RNA biosynthetic process         15  0.000130\n",
      "14                               meristem development          6  0.000130\n",
      "15         regulation of transcription, DNA-templated         15  0.000130\n",
      "16  regulation of nucleic acid-templated transcrip...         15  0.000130\n",
      "17                                 tissue development          8  0.000130\n",
      "18                regulation of RNA metabolic process         15  0.000130\n",
      "19                              developmental process         17  0.000150\n"
     ]
    }
   ],
   "source": [
    "get_top_terms(ath_GO)"
   ]
  },
  {
   "cell_type": "markdown",
   "metadata": {},
   "source": [
    "## Barley enriched GO terms"
   ]
  },
  {
   "cell_type": "code",
   "execution_count": 6,
   "metadata": {},
   "outputs": [
    {
     "name": "stdout",
     "output_type": "stream",
     "text": [
      "                                                 Term  queryitem      FDR\n",
      "0              regulation of RNA biosynthetic process         67  0.00014\n",
      "1          regulation of transcription, DNA-templated         67  0.00014\n",
      "2   regulation of nucleic acid-templated transcrip...         67  0.00014\n",
      "3                 regulation of RNA metabolic process         67  0.00014\n",
      "4    regulation of macromolecule biosynthetic process         69  0.00022\n",
      "5   regulation of cellular macromolecule biosynthe...         69  0.00022\n",
      "6                       regulation of gene expression         70  0.00022\n",
      "7         regulation of cellular biosynthetic process         69  0.00026\n",
      "8                  regulation of biosynthetic process         69  0.00027\n",
      "9   regulation of nucleobase-containing compound m...         67  0.00027\n",
      "10  regulation of nitrogen compound metabolic process         69  0.00031\n",
      "11      regulation of macromolecule metabolic process         72  0.00075\n",
      "12            regulation of primary metabolic process         71  0.00092\n",
      "13               nucleic acid-templated transcription         67  0.00100\n",
      "14                       transcription, DNA-templated         67  0.00100\n",
      "15                           RNA biosynthetic process         67  0.00100\n",
      "16           regulation of cellular metabolic process         71  0.00100\n",
      "17                    regulation of metabolic process         72  0.00200\n",
      "18  nucleobase-containing compound biosynthetic pr...         69  0.18000\n",
      "19                        oxidation-reduction process         54  0.50000\n"
     ]
    }
   ],
   "source": [
    "get_top_terms(hvu_GO)"
   ]
  },
  {
   "cell_type": "markdown",
   "metadata": {},
   "source": [
    "## Rice enriched GO terms"
   ]
  },
  {
   "cell_type": "code",
   "execution_count": 7,
   "metadata": {},
   "outputs": [
    {
     "name": "stdout",
     "output_type": "stream",
     "text": [
      "                                                 Term  queryitem           FDR\n",
      "0                         regulation of transcription         31  1.900000e-15\n",
      "1   regulation of nucleobase, nucleoside, nucleoti...         31  1.900000e-15\n",
      "2   regulation of nitrogen compound metabolic process         31  1.900000e-15\n",
      "3         regulation of cellular biosynthetic process         31  2.100000e-15\n",
      "4                  regulation of biosynthetic process         31  2.100000e-15\n",
      "5    regulation of macromolecule biosynthetic process         31  2.100000e-15\n",
      "6                       regulation of gene expression         31  2.300000e-15\n",
      "7            regulation of cellular metabolic process         31  2.600000e-15\n",
      "8             regulation of primary metabolic process         31  3.900000e-15\n",
      "9                                       transcription         31  3.900000e-15\n",
      "10      regulation of macromolecule metabolic process         31  4.300000e-15\n",
      "11                    regulation of metabolic process         31  5.800000e-15\n",
      "12         regulation of transcription, DNA-dependent         22  3.000000e-14\n",
      "13                regulation of RNA metabolic process         22  3.000000e-14\n",
      "14                     regulation of cellular process         32  4.800000e-14\n",
      "15                              biological regulation         33  6.200000e-14\n",
      "16                           RNA biosynthetic process         22  8.200000e-14\n",
      "17                       transcription, DNA-dependent         22  8.200000e-14\n",
      "18                   regulation of biological process         32  1.000000e-13\n",
      "19                              RNA metabolic process         23  4.800000e-12\n"
     ]
    }
   ],
   "source": [
    "get_top_terms(rice_GO)"
   ]
  },
  {
   "cell_type": "markdown",
   "metadata": {},
   "source": [
    "## Maize enriched GO terms"
   ]
  },
  {
   "cell_type": "markdown",
   "metadata": {},
   "source": [
    "### Tassel"
   ]
  },
  {
   "cell_type": "code",
   "execution_count": 8,
   "metadata": {},
   "outputs": [
    {
     "name": "stdout",
     "output_type": "stream",
     "text": [
      "                                                 Term  queryitem    FDR\n",
      "0                            RNA biosynthetic process         17  0.086\n",
      "1                     regulation of metabolic process         19  0.086\n",
      "2            regulation of cellular metabolic process         18  0.086\n",
      "3             regulation of primary metabolic process         17  0.086\n",
      "4       regulation of macromolecule metabolic process         18  0.086\n",
      "5                       regulation of gene expression         17  0.086\n",
      "6                                   catabolic process         12  0.086\n",
      "7                                       transcription         17  0.086\n",
      "8                        transcription, DNA-dependent         17  0.086\n",
      "9    regulation of macromolecule biosynthetic process         16  0.091\n",
      "10        regulation of cellular biosynthetic process         16  0.097\n",
      "11                 regulation of biosynthetic process         16  0.097\n",
      "12                                   cellular process         65  0.110\n",
      "13               cell wall organization or biogenesis          5  0.180\n",
      "14                regulation of RNA metabolic process         14  0.200\n",
      "15                        regulation of transcription         14  0.200\n",
      "16                    macromolecule catabolic process          7  0.200\n",
      "17                   polysaccharide metabolic process          5  0.200\n",
      "18         regulation of transcription, DNA-dependent         14  0.200\n",
      "19  regulation of nucleobase, nucleoside, nucleoti...         14  0.210\n"
     ]
    }
   ],
   "source": [
    "get_top_terms(zea_t_GO)"
   ]
  },
  {
   "cell_type": "markdown",
   "metadata": {},
   "source": [
    "### Ear"
   ]
  },
  {
   "cell_type": "code",
   "execution_count": 9,
   "metadata": {},
   "outputs": [
    {
     "name": "stdout",
     "output_type": "stream",
     "text": [
      "                                                 Term  queryitem           FDR\n",
      "0                                    cellular process     4128.0  3.100000e-96\n",
      "3                          cellular metabolic process     3226.0  2.700000e-61\n",
      "5                              organelle organization      521.0  4.000000e-56\n",
      "6            cellular macromolecule metabolic process     2393.0  4.100000e-53\n",
      "8                     cellular component organization      693.0  8.000000e-49\n",
      "9                     macromolecule metabolic process     2554.0  7.900000e-44\n",
      "11                    macromolecule catabolic process      370.0  1.800000e-39\n",
      "12                          primary metabolic process     3140.0  2.600000e-36\n",
      "14           cellular macromolecule catabolic process      322.0  1.300000e-35\n",
      "15                    regulation of metabolic process      874.0  4.900000e-33\n",
      "16                          protein catabolic process      233.0  5.300000e-33\n",
      "17                              RNA metabolic process     1005.0  6.900000e-33\n",
      "18                nitrogen compound metabolic process     1498.0  4.200000e-31\n",
      "19                 cellular protein catabolic process      211.0  1.100000e-30\n",
      "20  proteolysis involved in cellular protein catab...      208.0  1.300000e-30\n",
      "21                                  catabolic process      534.0  2.400000e-30\n",
      "22      regulation of macromolecule metabolic process      801.0  3.000000e-30\n",
      "23                                    gene expression     1236.0  3.300000e-29\n",
      "24          positive regulation of biological process      215.0  4.600000e-29\n",
      "25  nucleobase, nucleoside, nucleotide and nucleic...     1286.0  6.400000e-29\n"
     ]
    }
   ],
   "source": [
    "get_top_terms(zea_e_GO)"
   ]
  }
 ],
 "metadata": {
  "kernelspec": {
   "display_name": "Python 3",
   "language": "python",
   "name": "python3"
  },
  "language_info": {
   "codemirror_mode": {
    "name": "ipython",
    "version": 3
   },
   "file_extension": ".py",
   "mimetype": "text/x-python",
   "name": "python",
   "nbconvert_exporter": "python",
   "pygments_lexer": "ipython3",
   "version": "3.7.7"
  }
 },
 "nbformat": 4,
 "nbformat_minor": 4
}
